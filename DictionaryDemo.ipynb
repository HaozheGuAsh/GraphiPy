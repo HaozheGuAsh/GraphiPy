{
 "cells": [
  {
   "cell_type": "markdown",
   "metadata": {},
   "source": [
    "# Dictionary Graph Export"
   ]
  },
  {
   "cell_type": "code",
   "execution_count": 1,
   "metadata": {},
   "outputs": [],
   "source": [
    "from graphipy.graphipy import GraphiPy"
   ]
  },
  {
   "cell_type": "code",
   "execution_count": 2,
   "metadata": {},
   "outputs": [],
   "source": [
    "# create GraphiPy object\n",
    "graphipy = GraphiPy(\"dictionary\")"
   ]
  },
  {
   "cell_type": "code",
   "execution_count": 4,
   "metadata": {},
   "outputs": [],
   "source": [
    "# The reddit API needs these credentials\n",
    "reddit_api_credentials = {\n",
    "    \"client_id\": ' ',\n",
    "    \"client_secret\": ' ',\n",
    "    \"user_agent\": ' ',\n",
    "    \"username\": \" \",\n",
    "    \"password\": \" \"\n",
    "}\n",
    "\n",
    "# create the reddit object\n",
    "reddit = graphipy.get_reddit(reddit_api_credentials)"
   ]
  },
  {
   "cell_type": "markdown",
   "metadata": {},
   "source": [
    "# Find Comments in a Submission"
   ]
  },
  {
   "cell_type": "code",
   "execution_count": 6,
   "metadata": {},
   "outputs": [],
   "source": [
    "submission_id = \"9uolpb\"\n",
    "\n",
    "submission_comments = reddit.fetch_submission_comments(graphipy.create_graph(), submission_id, limit=5)\n",
    "sc_nodes = submission_comments.get_nodes()\n",
    "sc_edges = submission_comments.get_edges()"
   ]
  },
  {
   "cell_type": "markdown",
   "metadata": {},
   "source": [
    "# Visualization with NetworkX"
   ]
  },
  {
   "cell_type": "code",
   "execution_count": 7,
   "metadata": {},
   "outputs": [],
   "source": [
    "import networkx as nx"
   ]
  },
  {
   "cell_type": "code",
   "execution_count": 8,
   "metadata": {},
   "outputs": [],
   "source": [
    "nx_graph = nx.Graph()"
   ]
  },
  {
   "cell_type": "code",
   "execution_count": 26,
   "metadata": {},
   "outputs": [],
   "source": [
    "edge_dict = sc_edges\n",
    "node_dict = sc_nodes\n",
    "\n",
    "for key in edge_dict:\n",
    "    edges = edge_dict[key]\n",
    "    \n",
    "    for edge in edges.values():\n",
    "        source = edge.Source\n",
    "        target = edge.Target\n",
    "        attr = {\n",
    "            \"Label\": edge.Label, \n",
    "            \"label_attribute\": edge.label_attribute,\n",
    "            \"_id\": edge._id\n",
    "        }\n",
    "        nx_graph.add_edge(source, target, attr_dict=attr)"
   ]
  },
  {
   "cell_type": "code",
   "execution_count": 29,
   "metadata": {},
   "outputs": [],
   "source": [
    "for key in node_dict:\n",
    "    nodes = node_dict[key]\n",
    "    \n",
    "    for key in nodes.keys():\n",
    "        node = vars(nodes[key])\n",
    "        nx_node = nx_graph.node[key]\n",
    "        \n",
    "        for attr in node.keys():\n",
    "            nx_node[attr] = node[attr]"
   ]
  },
  {
   "cell_type": "code",
   "execution_count": 34,
   "metadata": {},
   "outputs": [
    {
     "data": {
      "image/png": "[encoded data removed]",
      "text/plain": [
       "<Figure size 432x288 with 1 Axes>"
      ]
     },
     "metadata": {},
     "output_type": "display_data"
    }
   ],
   "source": [
    "nx.draw(nx_graph)"
   ]
  }
 ],
 "metadata": {
  "kernelspec": {
   "display_name": "Python 3",
   "language": "python",
   "name": "python3"
  },
  "language_info": {
   "codemirror_mode": {
    "name": "ipython",
    "version": 3
   },
   "file_extension": ".py",
   "mimetype": "text/x-python",
   "name": "python",
   "nbconvert_exporter": "python",
   "pygments_lexer": "ipython3",
   "version": "3.6.5"
  }
 },
 "nbformat": 4,
 "nbformat_minor": 2
}
