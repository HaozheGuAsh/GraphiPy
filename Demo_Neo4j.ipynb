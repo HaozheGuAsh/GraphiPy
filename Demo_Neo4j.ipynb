{
 "cells": [
  {
   "cell_type": "markdown",
   "metadata": {},
   "source": [
    "# Neo4j Graph Export"
   ]
  },
  {
   "cell_type": "code",
   "execution_count": 1,
   "metadata": {},
   "outputs": [],
   "source": [
    "from usde.usde import USDE"
   ]
  },
  {
   "cell_type": "code",
   "execution_count": 2,
   "metadata": {},
   "outputs": [],
   "source": [
    "# create USDE object\n",
    "usde = USDE(\"neo4j\")"
   ]
  },
  {
   "cell_type": "code",
   "execution_count": 3,
   "metadata": {},
   "outputs": [],
   "source": [
    "# The reddit API needs these credentials\n",
    "reddit_api_credentials = {\n",
    "    \"client_id\": ' ',\n",
    "    \"client_secret\": ' ',\n",
    "    \"user_agent\": ' ',\n",
    "    \"username\": \" \",\n",
    "    \"password\": \" \"\n",
    "}\n",
    "\n",
    "# create the reddit object\n",
    "reddit = usde.get_reddit(reddit_api_credentials)"
   ]
  },
  {
   "cell_type": "markdown",
   "metadata": {},
   "source": [
    "# Find Comments in a Submission"
   ]
  },
  {
   "cell_type": "code",
   "execution_count": 4,
   "metadata": {},
   "outputs": [],
   "source": [
    "submission_id = \"9uolpb\"\n",
    "graph = usde.create_graph(\"neo4j\", \" \")\n",
    "graph.delete_graph()"
   ]
  },
  {
   "cell_type": "code",
   "execution_count": 5,
   "metadata": {},
   "outputs": [
    {
     "data": {
      "text/plain": [
       "<usde.graph.graph_neo4j.NeoGraph at 0x20c7403ac88>"
      ]
     },
     "execution_count": 5,
     "metadata": {},
     "output_type": "execute_result"
    }
   ],
   "source": [
    "reddit.fetch_submission_comments(graph, submission_id, limit=5)"
   ]
  },
  {
   "cell_type": "markdown",
   "metadata": {},
   "source": [
    "# Visualization with NetworkX"
   ]
  },
  {
   "cell_type": "code",
   "execution_count": 6,
   "metadata": {},
   "outputs": [],
   "source": [
    "import networkx as nx\n",
    "import pprint"
   ]
  },
  {
   "cell_type": "code",
   "execution_count": 7,
   "metadata": {},
   "outputs": [],
   "source": [
    "nx_graph = nx.Graph()"
   ]
  },
  {
   "cell_type": "code",
   "execution_count": 8,
   "metadata": {},
   "outputs": [],
   "source": [
    "nodes = graph.get_nodes()"
   ]
  },
  {
   "cell_type": "code",
   "execution_count": 9,
   "metadata": {},
   "outputs": [],
   "source": [
    "edges = graph.get_edges()"
   ]
  },
  {
   "cell_type": "code",
   "execution_count": 10,
   "metadata": {},
   "outputs": [],
   "source": [
    "for edge in edges:\n",
    "    edge = edge[\"r\"]\n",
    "    source = edge[\"Source\"]\n",
    "    target = edge[\"Target\"]\n",
    "    attr = {\n",
    "        \"Label\": edge[\"Label\"],\n",
    "        \"label_attribute\": edge[\"label_attribute\"],\n",
    "        \"_id\": edge[\"_id\"]\n",
    "    }\n",
    "    nx_graph.add_edge(source, target, attr_dict=attr)"
   ]
  },
  {
   "cell_type": "code",
   "execution_count": 11,
   "metadata": {},
   "outputs": [],
   "source": [
    "for node in nodes:\n",
    "    node = node[\"n\"]\n",
    "    nx_node = nx_graph.node[node[\"_id\"]]\n",
    "    for attr in node.keys():\n",
    "        nx_node[attr] = node[attr]"
   ]
  },
  {
   "cell_type": "code",
   "execution_count": 13,
   "metadata": {},
   "outputs": [
    {
     "data": {
      "image/png": "[encoded data removed]",
      "text/plain": [
       "<Figure size 432x288 with 1 Axes>"
      ]
     },
     "metadata": {},
     "output_type": "display_data"
    }
   ],
   "source": [
    "nx.draw(nx_graph)"
   ]
  }
 ],
 "metadata": {
  "kernelspec": {
   "display_name": "Python 3",
   "language": "python",
   "name": "python3"
  },
  "language_info": {
   "codemirror_mode": {
    "name": "ipython",
    "version": 3
   },
   "file_extension": ".py",
   "mimetype": "text/x-python",
   "name": "python",
   "nbconvert_exporter": "python",
   "pygments_lexer": "ipython3",
   "version": "3.6.6"
  }
 },
 "nbformat": 4,
 "nbformat_minor": 2
}
