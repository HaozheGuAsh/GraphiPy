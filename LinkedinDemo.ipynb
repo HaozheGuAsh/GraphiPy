{
 "cells": [
  {
   "cell_type": "code",
   "execution_count": 1,
   "metadata": {},
   "outputs": [],
   "source": [
    "from graphipy.graphipy import GraphiPy\n",
    "\n",
    "# Linkedin Api's credentials\n",
    "api_credentials = {'access_token': \" \"}\n",
    "# Create graphipy\n",
    "graphipy = GraphiPy()\n",
    "\n",
    "linkedin = graphipy.get_linkedin(api_credentials)"
   ]
  },
  {
   "cell_type": "code",
   "execution_count": 2,
   "metadata": {},
   "outputs": [
    {
     "data": {
      "text/html": [
       "<div>\n",
       "<style scoped>\n",
       "    .dataframe tbody tr th:only-of-type {\n",
       "        vertical-align: middle;\n",
       "    }\n",
       "\n",
       "    .dataframe tbody tr th {\n",
       "        vertical-align: top;\n",
       "    }\n",
       "\n",
       "    .dataframe thead th {\n",
       "        text-align: right;\n",
       "    }\n",
       "</style>\n",
       "<table border=\"1\" class=\"dataframe\">\n",
       "  <thead>\n",
       "    <tr style=\"text-align: right;\">\n",
       "      <th></th>\n",
       "      <th>_id</th>\n",
       "      <th>Label</th>\n",
       "      <th>label_attribute</th>\n",
       "      <th>company</th>\n",
       "      <th>company_id</th>\n",
       "      <th>company_industry</th>\n",
       "      <th>company_name</th>\n",
       "      <th>company_size</th>\n",
       "      <th>company_type</th>\n",
       "      <th>is_current</th>\n",
       "      <th>location</th>\n",
       "      <th>start_month</th>\n",
       "      <th>start_year</th>\n",
       "      <th>summary</th>\n",
       "    </tr>\n",
       "  </thead>\n",
       "  <tbody>\n",
       "    <tr>\n",
       "      <th>0</th>\n",
       "      <td>1362428103</td>\n",
       "      <td>Course Producer for CSCI 310: Software Enginee...</td>\n",
       "      <td>Position</td>\n",
       "      <td>{'id': 3221523, 'industry': 'Higher Education'...</td>\n",
       "      <td>3221523</td>\n",
       "      <td>Higher Education</td>\n",
       "      <td>USC Viterbi School of Engineering</td>\n",
       "      <td>10001+</td>\n",
       "      <td>Educational</td>\n",
       "      <td>True</td>\n",
       "      <td>Los Angeles, CA</td>\n",
       "      <td>8</td>\n",
       "      <td>2018</td>\n",
       "      <td>Held office hours to answer students’ question...</td>\n",
       "    </tr>\n",
       "    <tr>\n",
       "      <th>1</th>\n",
       "      <td>1362429330</td>\n",
       "      <td>Course Producer for CSCI 201: Principles of So...</td>\n",
       "      <td>Position</td>\n",
       "      <td>{'id': 3221523, 'industry': 'Higher Education'...</td>\n",
       "      <td>3221523</td>\n",
       "      <td>Higher Education</td>\n",
       "      <td>USC Viterbi School of Engineering</td>\n",
       "      <td>10001+</td>\n",
       "      <td>Educational</td>\n",
       "      <td>True</td>\n",
       "      <td>Los Angeles, CA</td>\n",
       "      <td>8</td>\n",
       "      <td>2018</td>\n",
       "      <td>Held office hours to answer students’ question...</td>\n",
       "    </tr>\n",
       "  </tbody>\n",
       "</table>\n",
       "</div>"
      ],
      "text/plain": [
       "          _id                                              Label  \\\n",
       "0  1362428103  Course Producer for CSCI 310: Software Enginee...   \n",
       "1  1362429330  Course Producer for CSCI 201: Principles of So...   \n",
       "\n",
       "  label_attribute                                            company  \\\n",
       "0        Position  {'id': 3221523, 'industry': 'Higher Education'...   \n",
       "1        Position  {'id': 3221523, 'industry': 'Higher Education'...   \n",
       "\n",
       "  company_id  company_industry                       company_name  \\\n",
       "0    3221523  Higher Education  USC Viterbi School of Engineering   \n",
       "1    3221523  Higher Education  USC Viterbi School of Engineering   \n",
       "\n",
       "  company_size company_type is_current         location start_month  \\\n",
       "0       10001+  Educational       True  Los Angeles, CA           8   \n",
       "1       10001+  Educational       True  Los Angeles, CA           8   \n",
       "\n",
       "  start_year                                            summary  \n",
       "0       2018  Held office hours to answer students’ question...  \n",
       "1       2018  Held office hours to answer students’ question...  "
      ]
     },
     "execution_count": 2,
     "metadata": {},
     "output_type": "execute_result"
    }
   ],
   "source": [
    "# Create a graph and naming the graph type inside graphipy first and then modify the graph\n",
    "graph = graphipy.create_graph(\"pandas\")\n",
    "linkedin.fetch_self_node(graph)\n",
    "nodes = graph.get_nodes()\n",
    "df = nodes[\"position\"]\n",
    "df.head(10)"
   ]
  },
  {
   "cell_type": "code",
   "execution_count": 3,
   "metadata": {},
   "outputs": [
    {
     "data": {
      "text/html": [
       "<div>\n",
       "<style scoped>\n",
       "    .dataframe tbody tr th:only-of-type {\n",
       "        vertical-align: middle;\n",
       "    }\n",
       "\n",
       "    .dataframe tbody tr th {\n",
       "        vertical-align: top;\n",
       "    }\n",
       "\n",
       "    .dataframe thead th {\n",
       "        text-align: right;\n",
       "    }\n",
       "</style>\n",
       "<table border=\"1\" class=\"dataframe\">\n",
       "  <thead>\n",
       "    <tr style=\"text-align: right;\">\n",
       "      <th></th>\n",
       "      <th>_id</th>\n",
       "      <th>Label</th>\n",
       "      <th>label_attribute</th>\n",
       "      <th>first_name</th>\n",
       "      <th>last_name</th>\n",
       "      <th>headline</th>\n",
       "      <th>industry</th>\n",
       "      <th>location</th>\n",
       "      <th>location_name</th>\n",
       "      <th>location_country</th>\n",
       "      <th>num_connections</th>\n",
       "      <th>num_connections_capped</th>\n",
       "      <th>picture_url</th>\n",
       "      <th>summary</th>\n",
       "    </tr>\n",
       "  </thead>\n",
       "  <tbody>\n",
       "    <tr>\n",
       "      <th>0</th>\n",
       "      <td>pUJXmhGP5s</td>\n",
       "      <td>Zifan Shi</td>\n",
       "      <td>Profile</td>\n",
       "      <td>Zifan</td>\n",
       "      <td>Shi</td>\n",
       "      <td>Course Producer for CSCI 201: Principles of So...</td>\n",
       "      <td>Computer Software</td>\n",
       "      <td>{'country': {'code': 'us'}, 'name': 'Greater L...</td>\n",
       "      <td>Greater Los Angeles Area</td>\n",
       "      <td>us</td>\n",
       "      <td>59</td>\n",
       "      <td>False</td>\n",
       "      <td>https://media.licdn.com/dms/image/C5603AQEYCCJ...</td>\n",
       "      <td>Major in Computer Science (Senior Year) and Mi...</td>\n",
       "    </tr>\n",
       "  </tbody>\n",
       "</table>\n",
       "</div>"
      ],
      "text/plain": [
       "          _id      Label label_attribute first_name last_name  \\\n",
       "0  pUJXmhGP5s  Zifan Shi         Profile      Zifan       Shi   \n",
       "\n",
       "                                            headline           industry  \\\n",
       "0  Course Producer for CSCI 201: Principles of So...  Computer Software   \n",
       "\n",
       "                                            location  \\\n",
       "0  {'country': {'code': 'us'}, 'name': 'Greater L...   \n",
       "\n",
       "              location_name location_country num_connections  \\\n",
       "0  Greater Los Angeles Area               us              59   \n",
       "\n",
       "  num_connections_capped                                        picture_url  \\\n",
       "0                  False  https://media.licdn.com/dms/image/C5603AQEYCCJ...   \n",
       "\n",
       "                                             summary  \n",
       "0  Major in Computer Science (Senior Year) and Mi...  "
      ]
     },
     "execution_count": 3,
     "metadata": {},
     "output_type": "execute_result"
    }
   ],
   "source": [
    "df = nodes[\"profile\"]\n",
    "df.head(10)"
   ]
  },
  {
   "cell_type": "markdown",
   "metadata": {},
   "source": [
    "# Visualization with NetworkX"
   ]
  },
  {
   "cell_type": "code",
   "execution_count": 4,
   "metadata": {},
   "outputs": [],
   "source": [
    "import networkx as nx\n",
    "\n",
    "nx_graph = nx.Graph();\n",
    "\n",
    "edges = graph.get_edges()"
   ]
  },
  {
   "cell_type": "code",
   "execution_count": 9,
   "metadata": {},
   "outputs": [],
   "source": [
    "# create graph from edgelist dataframes\n",
    "for key in edges:\n",
    "    \n",
    "    new_graph = nx.from_pandas_edgelist(\n",
    "        edges[key], source=\"Source\", target=\"Target\", edge_attr=True)\n",
    "    \n",
    "    nx_graph = nx.compose(nx_graph, new_graph)"
   ]
  },
  {
   "cell_type": "code",
   "execution_count": 10,
   "metadata": {},
   "outputs": [],
   "source": [
    "# Add node attributes\n",
    "for key in nodes:\n",
    "    df = nodes[key]\n",
    "    \n",
    "    for index, row in df.iterrows():\n",
    "        _id = row[\"_id\"]\n",
    "        node = nx_graph.node[_id]\n",
    "        \n",
    "        for row_key in row.keys():\n",
    "            node[row_key] = row[row_key]"
   ]
  },
  {
   "cell_type": "code",
   "execution_count": 14,
   "metadata": {},
   "outputs": [
    {
     "data": {
      "image/png": "[encoded data removed]",
      "text/plain": [
       "<Figure size 432x288 with 1 Axes>"
      ]
     },
     "metadata": {},
     "output_type": "display_data"
    }
   ],
   "source": [
    "# Draw the graph with node labels\n",
    "labels = dict((node, data[\"Label\"]) for node, data in nx_graph.nodes(data=True))\n",
    "nx.draw(nx_graph, labels=labels)"
   ]
  },
  {
   "cell_type": "code",
   "execution_count": 15,
   "metadata": {},
   "outputs": [],
   "source": [
    "pos = nx.spring_layout(nx_graph)\n",
    "edge_labels = {}\n",
    "for edge in nx_graph.edges(data=True):\n",
    "    key = (edge[0], edge[1])\n",
    "    edge_labels[key] = edge[2][\"Label\"]"
   ]
  },
  {
   "cell_type": "code",
   "execution_count": 16,
   "metadata": {},
   "outputs": [
    {
     "data": {
      "text/plain": [
       "{('pUJXmhGP5s', '1362428103'): Text(0.0994734,-0.499532,'hasPosition'),\n",
       " ('pUJXmhGP5s', '1362429330'): Text(-0.0995661,0.5,'hasPosition')}"
      ]
     },
     "execution_count": 16,
     "metadata": {},
     "output_type": "execute_result"
    },
    {
     "data": {
      "image/png": "[encoded data removed]",
      "text/plain": [
       "<Figure size 432x288 with 1 Axes>"
      ]
     },
     "metadata": {},
     "output_type": "display_data"
    }
   ],
   "source": [
    "# Draw networkx labels\n",
    "nx.draw_networkx_edge_labels(nx_graph, pos, edge_labels=edge_labels, font_color=\"red\")"
   ]
  }
 ],
 "metadata": {
  "kernelspec": {
   "display_name": "Python 3",
   "language": "python",
   "name": "python3"
  },
  "language_info": {
   "codemirror_mode": {
    "name": "ipython",
    "version": 3
   },
   "file_extension": ".py",
   "mimetype": "text/x-python",
   "name": "python",
   "nbconvert_exporter": "python",
   "pygments_lexer": "ipython3",
   "version": "3.6.5"
  }
 },
 "nbformat": 4,
 "nbformat_minor": 2
}
