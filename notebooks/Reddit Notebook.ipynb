{
 "cells": [
  {
   "cell_type": "code",
   "execution_count": 1,
   "metadata": {},
   "outputs": [
    {
     "ename": "ModuleNotFoundError",
     "evalue": "No module named 'usde'",
     "output_type": "error",
     "traceback": [
      "\u001b[0;31m---------------------------------------------------------------------------\u001b[0m",
      "\u001b[0;31mModuleNotFoundError\u001b[0m                       Traceback (most recent call last)",
      "\u001b[0;32m<ipython-input-1-684e3ebf5476>\u001b[0m in \u001b[0;36m<module>\u001b[0;34m()\u001b[0m\n\u001b[0;32m----> 1\u001b[0;31m \u001b[0;32mfrom\u001b[0m \u001b[0musde\u001b[0m\u001b[0;34m.\u001b[0m\u001b[0musde\u001b[0m \u001b[0;32mimport\u001b[0m \u001b[0mUSDE\u001b[0m\u001b[0;34m\u001b[0m\u001b[0m\n\u001b[0m",
      "\u001b[0;31mModuleNotFoundError\u001b[0m: No module named 'usde'"
     ]
    }
   ],
   "source": [
    "from usde.usde import USDE"
   ]
  },
  {
   "cell_type": "code",
   "execution_count": null,
   "metadata": {},
   "outputs": [],
   "source": [
    "usde = USDE()"
   ]
  },
  {
   "cell_type": "code",
   "execution_count": null,
   "metadata": {},
   "outputs": [],
   "source": [
    "# The reddit API needs these credentials\n",
    "\n",
    "reddit_api = {\n",
    "    \"client_id\": ' ',\n",
    "    \"client_secret\": ' ',\n",
    "    \"user_agent\": ' ',\n",
    "    \"username\": \" \",\n",
    "    \"password\": \" \"\n",
    "}"
   ]
  },
  {
   "cell_type": "code",
   "execution_count": null,
   "metadata": {},
   "outputs": [],
   "source": [
    "reddit = usde.get_reddit(reddit_api)"
   ]
  },
  {
   "cell_type": "code",
   "execution_count": null,
   "metadata": {},
   "outputs": [],
   "source": [
    "# Every function call modifies the graph that is sent as input\n",
    "# subreddits_name = usde.create_graph()\n",
    "# reddit.fetch_subreddits_by_name(usde.create_graph(), \"dot\", limit=3)\n",
    "\n",
    "# However, it also returns the graph modified so you can assign it to other variables like so:\n",
    "subreddits_name = reddit.fetch_subreddits_by_name(usde.create_graph(), \"usc\", limit=5)"
   ]
  },
  {
   "cell_type": "code",
   "execution_count": null,
   "metadata": {},
   "outputs": [],
   "source": [
    "# You can also get the dataframe from Pandas\n",
    "subreddit_df = subreddits_name.get_df(\"subreddit\")"
   ]
  },
  {
   "cell_type": "code",
   "execution_count": null,
   "metadata": {},
   "outputs": [],
   "source": [
    "subreddit_df.head()"
   ]
  },
  {
   "cell_type": "code",
   "execution_count": null,
   "metadata": {},
   "outputs": [],
   "source": [
    "subreddit_submissions = reddit.fetch_subreddit_submissions(\n",
    "        usde.create_graph(), subreddit_name=\"pics\", limit=3)"
   ]
  },
  {
   "cell_type": "code",
   "execution_count": null,
   "metadata": {},
   "outputs": [],
   "source": [
    "# You can also get all the node dataframes available from the query\n",
    "ss_nodes = subreddit_submissions.get_nodes()\n",
    "\n",
    "# To find out list of available nodes\n",
    "print(ss_nodes.keys())"
   ]
  },
  {
   "cell_type": "code",
   "execution_count": null,
   "metadata": {},
   "outputs": [],
   "source": [
    "ss_nodes[\"redditor\"].head()"
   ]
  },
  {
   "cell_type": "code",
   "execution_count": null,
   "metadata": {
    "scrolled": true
   },
   "outputs": [],
   "source": [
    "ss_nodes[\"submission\"].head()"
   ]
  },
  {
   "cell_type": "code",
   "execution_count": null,
   "metadata": {},
   "outputs": [],
   "source": [
    "# The same works with edges\n",
    "ss_edges = subreddit_submissions.get_edges()\n",
    "print(ss_edges.keys())"
   ]
  },
  {
   "cell_type": "code",
   "execution_count": null,
   "metadata": {},
   "outputs": [],
   "source": [
    "ss_edges[\"posted\"].head()"
   ]
  },
  {
   "cell_type": "code",
   "execution_count": null,
   "metadata": {},
   "outputs": [],
   "source": [
    "# Reddit USDE also supports the ability to get comments from a submission\n",
    "submission_comments = reddit.fetch_submission_comments(usde.create_graph(), \"9qqvbr\", limit=5)\n",
    "sc_nodes = submission_comments.get_nodes()\n",
    "sc_nodes[\"comment\"].head()"
   ]
  },
  {
   "cell_type": "code",
   "execution_count": null,
   "metadata": {},
   "outputs": [],
   "source": [
    "# To fetch a redditor's comments, Reddit USDE has this function\n",
    "redditor_comments = reddit.fetch_redditor_comments(usde.create_graph(), \"spez\", limit=5)\n",
    "\n",
    "# This function is to fetch a redditor's submissions\n",
    "redditor_submissions = reddit.fetch_redditor_submissions(usde.create_graph(), \"spez\", limit=5)"
   ]
  },
  {
   "cell_type": "code",
   "execution_count": null,
   "metadata": {},
   "outputs": [],
   "source": [
    "# You can then export the graph into .csv files\n",
    "# Just call .export_CSV_all() on the graph desired\n",
    "redditor_comments.export_all_CSV(\"filename_prefix\")\n",
    "\n",
    "# You can also specify the dataframes \"you want to export by using the .export_CSV() function\n",
    "redditor_comments.export_CSV(\"filename_prefix\", {\"redditor\", \"submission\"}, {\"posted\"})"
   ]
  }
 ],
 "metadata": {
  "kernelspec": {
   "display_name": "Python 3",
   "language": "python",
   "name": "python3"
  },
  "language_info": {
   "codemirror_mode": {
    "name": "ipython",
    "version": 3
   },
   "file_extension": ".py",
   "mimetype": "text/x-python",
   "name": "python",
   "nbconvert_exporter": "python",
   "pygments_lexer": "ipython3",
   "version": "3.7.0"
  }
 },
 "nbformat": 4,
 "nbformat_minor": 2
}
