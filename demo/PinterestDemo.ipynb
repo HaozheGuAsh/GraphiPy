{
 "cells": [
  {
   "cell_type": "markdown",
   "metadata": {},
   "source": [
    "# Using GraphiPy to extract data from Twitter"
   ]
  },
  {
   "cell_type": "code",
   "execution_count": 1,
   "metadata": {},
   "outputs": [],
   "source": [
    "from graphipy.graphipy import GraphiPy"
   ]
  },
  {
   "cell_type": "code",
   "execution_count": 2,
   "metadata": {},
   "outputs": [],
   "source": [
    "# create GraphiPy object (default to Pandas)\n",
    "graphipy = GraphiPy()"
   ]
  },
  {
   "cell_type": "markdown",
   "metadata": {},
   "source": [
    "# Creating the Twitter Object\n",
    "GraphiPy's Pinterest object needs ACCESS_TOKEN in order to connect to Pinterest's API:\n",
    "\n",
    "To get ACCESS_TOKEN, you can login to Pinterest and go to https://developers.pinterest.com/apps/ and click the \"create app\" button at the upper right corner of the page, or you can get it using Postman."
   ]
  },
  {
   "cell_type": "code",
   "execution_count": 3,
   "metadata": {},
   "outputs": [],
   "source": [
    "# The pinterest API needs access token\n",
    "ACCESS_TOKEN = \"\"\n",
    "pinterest_api = {\n",
    "    \"access_token\": ACCESS_TOKEN\n",
    "}"
   ]
  },
  {
   "cell_type": "code",
   "execution_count": 4,
   "metadata": {},
   "outputs": [],
   "source": [
    "# create the pinterest object\n",
    "pinterest = graphipy.get_pinterest(pinterest_api)"
   ]
  },
  {
   "cell_type": "markdown",
   "metadata": {},
   "source": [
    "# Search a board by board_url\n",
    "### def fetch_pinterest_board_by_url(graph, board_url)\n",
    "\n",
    "Types of node returned:\n",
    "\n",
    "- board - the board returned by searching for board url\n",
    "- user - the creator of the board returned\n",
    "- pin - pins on the board returned\n",
    "\n",
    "Types of edges returned:\n",
    "\n",
    "- CREATED_BY\n",
    "- CREATED\n",
    "- HAS\n",
    "- ON"
   ]
  },
  {
   "cell_type": "code",
   "execution_count": 5,
   "metadata": {},
   "outputs": [],
   "source": [
    "board_url = \"nichola_wilkin/python\"\n",
    "\n",
    "# Every function call modifies the graph that is sent as input\n",
    "# single_board_graph = graphipy.create_graph()\n",
    "# twitter.etch_pinterest_board_by_url(single_board_graph, board_url)\n",
    "\n",
    "# However, it also returns the graph modified so you can assign it to other variables like so:\n",
    "single_board_graph = pinterest.fetch_pinterest_board_by_url(graphipy.create_graph(), board_url)"
   ]
  },
  {
   "cell_type": "code",
   "execution_count": 6,
   "metadata": {},
   "outputs": [
    {
     "name": "stdout",
     "output_type": "stream",
     "text": [
      "dict_keys(['board', 'user', 'pin'])\n"
     ]
    }
   ],
   "source": [
    "# To get the list of available nodes\n",
    "print(single_board_graph.get_nodes().keys())"
   ]
  },
  {
   "cell_type": "code",
   "execution_count": 7,
   "metadata": {},
   "outputs": [
    {
     "data": {
      "text/html": [
       "<div>\n",
       "<style scoped>\n",
       "    .dataframe tbody tr th:only-of-type {\n",
       "        vertical-align: middle;\n",
       "    }\n",
       "\n",
       "    .dataframe tbody tr th {\n",
       "        vertical-align: top;\n",
       "    }\n",
       "\n",
       "    .dataframe thead th {\n",
       "        text-align: right;\n",
       "    }\n",
       "</style>\n",
       "<table border=\"1\" class=\"dataframe\">\n",
       "  <thead>\n",
       "    <tr style=\"text-align: right;\">\n",
       "      <th></th>\n",
       "      <th>_id</th>\n",
       "      <th>Label</th>\n",
       "      <th>label_attribute</th>\n",
       "      <th>name</th>\n",
       "      <th>url</th>\n",
       "      <th>image_url</th>\n",
       "      <th>created_at</th>\n",
       "      <th>privacy</th>\n",
       "      <th>pins_count</th>\n",
       "      <th>collaborators_count</th>\n",
       "      <th>followers_count</th>\n",
       "      <th>description</th>\n",
       "    </tr>\n",
       "  </thead>\n",
       "  <tbody>\n",
       "    <tr>\n",
       "      <th>0</th>\n",
       "      <td>774689642091047952</td>\n",
       "      <td>Python</td>\n",
       "      <td>board</td>\n",
       "      <td>Python</td>\n",
       "      <td>https://www.pinterest.com/nichola_wilkin/python/</td>\n",
       "      <td>https://i.pinimg.com/60x60/35/5e/4e/355e4eb8c5...</td>\n",
       "      <td>2018-04-21T16:45:39</td>\n",
       "      <td>public</td>\n",
       "      <td>94</td>\n",
       "      <td>0</td>\n",
       "      <td>1694</td>\n",
       "      <td></td>\n",
       "    </tr>\n",
       "  </tbody>\n",
       "</table>\n",
       "</div>"
      ],
      "text/plain": [
       "                  _id   Label label_attribute    name  \\\n",
       "0  774689642091047952  Python           board  Python   \n",
       "\n",
       "                                                url  \\\n",
       "0  https://www.pinterest.com/nichola_wilkin/python/   \n",
       "\n",
       "                                           image_url           created_at  \\\n",
       "0  https://i.pinimg.com/60x60/35/5e/4e/355e4eb8c5...  2018-04-21T16:45:39   \n",
       "\n",
       "  privacy pins_count collaborators_count followers_count description  \n",
       "0  public         94                   0            1694              "
      ]
     },
     "execution_count": 7,
     "metadata": {},
     "output_type": "execute_result"
    }
   ],
   "source": [
    "# You can get the dataframe from Pandas by specifying the node, for example: board\n",
    "single_board_df = single_board_graph.get_df(\"board\")\n",
    "single_board_df.head()"
   ]
  },
  {
   "cell_type": "code",
   "execution_count": 8,
   "metadata": {},
   "outputs": [
    {
     "data": {
      "text/plain": [
       "_id                                                   774689642091047952\n",
       "Label                                                             Python\n",
       "label_attribute                                                    board\n",
       "name                                                              Python\n",
       "url                     https://www.pinterest.com/nichola_wilkin/python/\n",
       "image_url              https://i.pinimg.com/60x60/35/5e/4e/355e4eb8c5...\n",
       "created_at                                           2018-04-21T16:45:39\n",
       "privacy                                                           public\n",
       "pins_count                                                            94\n",
       "collaborators_count                                                    0\n",
       "followers_count                                                     1694\n",
       "description                                                             \n",
       "Name: 0, dtype: object"
      ]
     },
     "execution_count": 8,
     "metadata": {},
     "output_type": "execute_result"
    }
   ],
   "source": [
    "# show the attributes of this node\n",
    "single_board_df.iloc[0]"
   ]
  },
  {
   "cell_type": "code",
   "execution_count": 9,
   "metadata": {},
   "outputs": [
    {
     "name": "stdout",
     "output_type": "stream",
     "text": [
      "dict_keys(['created_by', 'created', 'has', 'on'])\n"
     ]
    }
   ],
   "source": [
    "# To get the list of available edges\n",
    "print(single_board_graph.get_edges().keys())"
   ]
  },
  {
   "cell_type": "code",
   "execution_count": 10,
   "metadata": {},
   "outputs": [
    {
     "data": {
      "text/html": [
       "<div>\n",
       "<style scoped>\n",
       "    .dataframe tbody tr th:only-of-type {\n",
       "        vertical-align: middle;\n",
       "    }\n",
       "\n",
       "    .dataframe tbody tr th {\n",
       "        vertical-align: top;\n",
       "    }\n",
       "\n",
       "    .dataframe thead th {\n",
       "        text-align: right;\n",
       "    }\n",
       "</style>\n",
       "<table border=\"1\" class=\"dataframe\">\n",
       "  <thead>\n",
       "    <tr style=\"text-align: right;\">\n",
       "      <th></th>\n",
       "      <th>Source</th>\n",
       "      <th>Target</th>\n",
       "      <th>Label</th>\n",
       "      <th>label_attribute</th>\n",
       "      <th>_id</th>\n",
       "    </tr>\n",
       "  </thead>\n",
       "  <tbody>\n",
       "    <tr>\n",
       "      <th>0</th>\n",
       "      <td>774689642091047952</td>\n",
       "      <td>774689710810358609</td>\n",
       "      <td>CREATED_BY</td>\n",
       "      <td>CREATED_BY</td>\n",
       "      <td>774689642091047952774689710810358609CREATED_BY</td>\n",
       "    </tr>\n",
       "  </tbody>\n",
       "</table>\n",
       "</div>"
      ],
      "text/plain": [
       "               Source              Target       Label label_attribute  \\\n",
       "0  774689642091047952  774689710810358609  CREATED_BY      CREATED_BY   \n",
       "\n",
       "                                              _id  \n",
       "0  774689642091047952774689710810358609CREATED_BY  "
      ]
     },
     "execution_count": 10,
     "metadata": {},
     "output_type": "execute_result"
    }
   ],
   "source": [
    "# You can also get the dataframe from Pandas by specifying the edge, for example: created_by\n",
    "single_board_created_by_edge_df = single_board_graph.get_df(\"created_by\", \"edge\")\n",
    "single_board_created_by_edge_df.head()"
   ]
  },
  {
   "cell_type": "markdown",
   "metadata": {},
   "source": [
    "# Search a pin by pin id\n",
    "### def fetch_pinterest_pin_by_id(graph, pin_id)\n",
    "\n",
    "Types of node returned:\n",
    "\n",
    "- pin - the pin returned by searching for pin id\n",
    "- user - the creator of the pin returned\n",
    "- board - the board the pin returned on\n",
    "\n",
    "Types of edge returned:\n",
    "\n",
    "- CREATED_BY\n",
    "- CREATED\n",
    "- ON\n",
    "- HAS\n"
   ]
  },
  {
   "cell_type": "code",
   "execution_count": 11,
   "metadata": {},
   "outputs": [],
   "source": [
    "# You can use pin id to retrieve information of a single pin\n",
    "pin_id = \"429249408218081265\"\n",
    "single_pin_graph = pinterest.fetch_pinterest_pin_by_id(graphipy.create_graph(), pin_id)"
   ]
  },
  {
   "cell_type": "code",
   "execution_count": 12,
   "metadata": {},
   "outputs": [
    {
     "name": "stdout",
     "output_type": "stream",
     "text": [
      "dict_keys(['pin', 'user', 'board'])\n"
     ]
    }
   ],
   "source": [
    "# Get all the node dataframes available from the query\n",
    "single_pin_graph_nodes = single_pin_graph.get_nodes()\n",
    "\n",
    "# Find out list of available nodes\n",
    "print(single_pin_graph_nodes.keys())"
   ]
  },
  {
   "cell_type": "code",
   "execution_count": 13,
   "metadata": {},
   "outputs": [
    {
     "data": {
      "text/html": [
       "<div>\n",
       "<style scoped>\n",
       "    .dataframe tbody tr th:only-of-type {\n",
       "        vertical-align: middle;\n",
       "    }\n",
       "\n",
       "    .dataframe tbody tr th {\n",
       "        vertical-align: top;\n",
       "    }\n",
       "\n",
       "    .dataframe thead th {\n",
       "        text-align: right;\n",
       "    }\n",
       "</style>\n",
       "<table border=\"1\" class=\"dataframe\">\n",
       "  <thead>\n",
       "    <tr style=\"text-align: right;\">\n",
       "      <th></th>\n",
       "      <th>_id</th>\n",
       "      <th>Label</th>\n",
       "      <th>label_attribute</th>\n",
       "      <th>url</th>\n",
       "      <th>image_url</th>\n",
       "      <th>link</th>\n",
       "      <th>media</th>\n",
       "      <th>original_link</th>\n",
       "      <th>created_at</th>\n",
       "      <th>note</th>\n",
       "      <th>color</th>\n",
       "      <th>saves</th>\n",
       "      <th>comments</th>\n",
       "    </tr>\n",
       "  </thead>\n",
       "  <tbody>\n",
       "    <tr>\n",
       "      <th>0</th>\n",
       "      <td>429249408218081265</td>\n",
       "      <td>pin_429249408218081265</td>\n",
       "      <td>pin</td>\n",
       "      <td>https://www.pinterest.com/pin/429249408218081265/</td>\n",
       "      <td>https://i.pinimg.com/originals/b4/7f/60/b47f60...</td>\n",
       "      <td>https://www.pinterest.com/r/pin/42924940821808...</td>\n",
       "      <td>image</td>\n",
       "      <td>http://www.techworm.net/2016/10/learn-entire-p...</td>\n",
       "      <td>2016-10-12T09:21:50</td>\n",
       "      <td>Learn Python 3 in one pic</td>\n",
       "      <td>#ffffff</td>\n",
       "      <td>32</td>\n",
       "      <td>0</td>\n",
       "    </tr>\n",
       "  </tbody>\n",
       "</table>\n",
       "</div>"
      ],
      "text/plain": [
       "                  _id                   Label label_attribute  \\\n",
       "0  429249408218081265  pin_429249408218081265             pin   \n",
       "\n",
       "                                                 url  \\\n",
       "0  https://www.pinterest.com/pin/429249408218081265/   \n",
       "\n",
       "                                           image_url  \\\n",
       "0  https://i.pinimg.com/originals/b4/7f/60/b47f60...   \n",
       "\n",
       "                                                link  media  \\\n",
       "0  https://www.pinterest.com/r/pin/42924940821808...  image   \n",
       "\n",
       "                                       original_link           created_at  \\\n",
       "0  http://www.techworm.net/2016/10/learn-entire-p...  2016-10-12T09:21:50   \n",
       "\n",
       "                        note    color saves comments  \n",
       "0  Learn Python 3 in one pic  #ffffff    32        0  "
      ]
     },
     "execution_count": 13,
     "metadata": {},
     "output_type": "execute_result"
    }
   ],
   "source": [
    "single_pin_graph_nodes[\"pin\"].head()"
   ]
  },
  {
   "cell_type": "code",
   "execution_count": 14,
   "metadata": {},
   "outputs": [
    {
     "data": {
      "text/html": [
       "<div>\n",
       "<style scoped>\n",
       "    .dataframe tbody tr th:only-of-type {\n",
       "        vertical-align: middle;\n",
       "    }\n",
       "\n",
       "    .dataframe tbody tr th {\n",
       "        vertical-align: top;\n",
       "    }\n",
       "\n",
       "    .dataframe thead th {\n",
       "        text-align: right;\n",
       "    }\n",
       "</style>\n",
       "<table border=\"1\" class=\"dataframe\">\n",
       "  <thead>\n",
       "    <tr style=\"text-align: right;\">\n",
       "      <th></th>\n",
       "      <th>_id</th>\n",
       "      <th>Label</th>\n",
       "      <th>label_attribute</th>\n",
       "      <th>username</th>\n",
       "      <th>first_name</th>\n",
       "      <th>last_name</th>\n",
       "      <th>bio</th>\n",
       "      <th>account_type</th>\n",
       "      <th>url</th>\n",
       "      <th>image_url</th>\n",
       "      <th>created_at</th>\n",
       "      <th>pins_count</th>\n",
       "      <th>following_count</th>\n",
       "      <th>followers_count</th>\n",
       "      <th>boards_count</th>\n",
       "    </tr>\n",
       "  </thead>\n",
       "  <tbody>\n",
       "    <tr>\n",
       "      <th>0</th>\n",
       "      <td>429249545642222747</td>\n",
       "      <td>Louise McKee</td>\n",
       "      <td>user</td>\n",
       "      <td>lmckee0803</td>\n",
       "      <td>Louise</td>\n",
       "      <td>McKee</td>\n",
       "      <td>Life adventurer, finder of answers, and purvey...</td>\n",
       "      <td>individual</td>\n",
       "      <td>https://www.pinterest.com/lmckee0803/</td>\n",
       "      <td>https://s.pinimg.com/images/user/default_60.png</td>\n",
       "      <td>2014-11-15T01:06:57</td>\n",
       "      <td>1146</td>\n",
       "      <td>52</td>\n",
       "      <td>71</td>\n",
       "      <td>65</td>\n",
       "    </tr>\n",
       "  </tbody>\n",
       "</table>\n",
       "</div>"
      ],
      "text/plain": [
       "                  _id         Label label_attribute    username first_name  \\\n",
       "0  429249545642222747  Louise McKee            user  lmckee0803     Louise   \n",
       "\n",
       "  last_name                                                bio account_type  \\\n",
       "0     McKee  Life adventurer, finder of answers, and purvey...   individual   \n",
       "\n",
       "                                     url  \\\n",
       "0  https://www.pinterest.com/lmckee0803/   \n",
       "\n",
       "                                         image_url           created_at  \\\n",
       "0  https://s.pinimg.com/images/user/default_60.png  2014-11-15T01:06:57   \n",
       "\n",
       "  pins_count following_count followers_count boards_count  \n",
       "0       1146              52              71           65  "
      ]
     },
     "execution_count": 14,
     "metadata": {},
     "output_type": "execute_result"
    }
   ],
   "source": [
    "single_pin_graph_nodes[\"user\"].head()"
   ]
  },
  {
   "cell_type": "code",
   "execution_count": 15,
   "metadata": {},
   "outputs": [
    {
     "data": {
      "text/html": [
       "<div>\n",
       "<style scoped>\n",
       "    .dataframe tbody tr th:only-of-type {\n",
       "        vertical-align: middle;\n",
       "    }\n",
       "\n",
       "    .dataframe tbody tr th {\n",
       "        vertical-align: top;\n",
       "    }\n",
       "\n",
       "    .dataframe thead th {\n",
       "        text-align: right;\n",
       "    }\n",
       "</style>\n",
       "<table border=\"1\" class=\"dataframe\">\n",
       "  <thead>\n",
       "    <tr style=\"text-align: right;\">\n",
       "      <th></th>\n",
       "      <th>_id</th>\n",
       "      <th>Label</th>\n",
       "      <th>label_attribute</th>\n",
       "      <th>name</th>\n",
       "      <th>url</th>\n",
       "      <th>image_url</th>\n",
       "      <th>created_at</th>\n",
       "      <th>privacy</th>\n",
       "      <th>pins_count</th>\n",
       "      <th>collaborators_count</th>\n",
       "      <th>followers_count</th>\n",
       "      <th>description</th>\n",
       "    </tr>\n",
       "  </thead>\n",
       "  <tbody>\n",
       "    <tr>\n",
       "      <th>0</th>\n",
       "      <td>429249476923082892</td>\n",
       "      <td>Infographics</td>\n",
       "      <td>board</td>\n",
       "      <td>Infographics</td>\n",
       "      <td>https://www.pinterest.com/lmckee0803/infograph...</td>\n",
       "      <td>https://i.pinimg.com/60x60/bf/f7/b7/bff7b7ebd2...</td>\n",
       "      <td>2015-10-28T20:12:40</td>\n",
       "      <td>public</td>\n",
       "      <td>42</td>\n",
       "      <td>0</td>\n",
       "      <td>18</td>\n",
       "      <td></td>\n",
       "    </tr>\n",
       "  </tbody>\n",
       "</table>\n",
       "</div>"
      ],
      "text/plain": [
       "                  _id         Label label_attribute          name  \\\n",
       "0  429249476923082892  Infographics           board  Infographics   \n",
       "\n",
       "                                                 url  \\\n",
       "0  https://www.pinterest.com/lmckee0803/infograph...   \n",
       "\n",
       "                                           image_url           created_at  \\\n",
       "0  https://i.pinimg.com/60x60/bf/f7/b7/bff7b7ebd2...  2015-10-28T20:12:40   \n",
       "\n",
       "  privacy pins_count collaborators_count followers_count description  \n",
       "0  public         42                   0              18              "
      ]
     },
     "execution_count": 15,
     "metadata": {},
     "output_type": "execute_result"
    }
   ],
   "source": [
    "single_pin_graph_nodes[\"board\"].head()"
   ]
  },
  {
   "cell_type": "code",
   "execution_count": 16,
   "metadata": {},
   "outputs": [
    {
     "name": "stdout",
     "output_type": "stream",
     "text": [
      "dict_keys(['created_by', 'created', 'on', 'has'])\n"
     ]
    }
   ],
   "source": [
    "# The same works with edges\n",
    "single_pin_graph_edges = single_pin_graph.get_edges()\n",
    "print(single_pin_graph_edges.keys())"
   ]
  },
  {
   "cell_type": "code",
   "execution_count": 17,
   "metadata": {},
   "outputs": [
    {
     "data": {
      "text/html": [
       "<div>\n",
       "<style scoped>\n",
       "    .dataframe tbody tr th:only-of-type {\n",
       "        vertical-align: middle;\n",
       "    }\n",
       "\n",
       "    .dataframe tbody tr th {\n",
       "        vertical-align: top;\n",
       "    }\n",
       "\n",
       "    .dataframe thead th {\n",
       "        text-align: right;\n",
       "    }\n",
       "</style>\n",
       "<table border=\"1\" class=\"dataframe\">\n",
       "  <thead>\n",
       "    <tr style=\"text-align: right;\">\n",
       "      <th></th>\n",
       "      <th>Source</th>\n",
       "      <th>Target</th>\n",
       "      <th>Label</th>\n",
       "      <th>label_attribute</th>\n",
       "      <th>_id</th>\n",
       "    </tr>\n",
       "  </thead>\n",
       "  <tbody>\n",
       "    <tr>\n",
       "      <th>0</th>\n",
       "      <td>429249408218081265</td>\n",
       "      <td>429249545642222747</td>\n",
       "      <td>CREATED_BY</td>\n",
       "      <td>CREATED_BY</td>\n",
       "      <td>429249408218081265429249545642222747CREATED_BY</td>\n",
       "    </tr>\n",
       "  </tbody>\n",
       "</table>\n",
       "</div>"
      ],
      "text/plain": [
       "               Source              Target       Label label_attribute  \\\n",
       "0  429249408218081265  429249545642222747  CREATED_BY      CREATED_BY   \n",
       "\n",
       "                                              _id  \n",
       "0  429249408218081265429249545642222747CREATED_BY  "
      ]
     },
     "execution_count": 17,
     "metadata": {},
     "output_type": "execute_result"
    }
   ],
   "source": [
    "single_pin_graph_edges[\"created_by\"].head()"
   ]
  },
  {
   "cell_type": "code",
   "execution_count": 18,
   "metadata": {},
   "outputs": [
    {
     "data": {
      "text/html": [
       "<div>\n",
       "<style scoped>\n",
       "    .dataframe tbody tr th:only-of-type {\n",
       "        vertical-align: middle;\n",
       "    }\n",
       "\n",
       "    .dataframe tbody tr th {\n",
       "        vertical-align: top;\n",
       "    }\n",
       "\n",
       "    .dataframe thead th {\n",
       "        text-align: right;\n",
       "    }\n",
       "</style>\n",
       "<table border=\"1\" class=\"dataframe\">\n",
       "  <thead>\n",
       "    <tr style=\"text-align: right;\">\n",
       "      <th></th>\n",
       "      <th>Source</th>\n",
       "      <th>Target</th>\n",
       "      <th>Label</th>\n",
       "      <th>label_attribute</th>\n",
       "      <th>_id</th>\n",
       "    </tr>\n",
       "  </thead>\n",
       "  <tbody>\n",
       "    <tr>\n",
       "      <th>0</th>\n",
       "      <td>429249545642222747</td>\n",
       "      <td>429249408218081265</td>\n",
       "      <td>CREATED</td>\n",
       "      <td>CREATED</td>\n",
       "      <td>429249545642222747429249408218081265CREATED</td>\n",
       "    </tr>\n",
       "  </tbody>\n",
       "</table>\n",
       "</div>"
      ],
      "text/plain": [
       "               Source              Target    Label label_attribute  \\\n",
       "0  429249545642222747  429249408218081265  CREATED         CREATED   \n",
       "\n",
       "                                           _id  \n",
       "0  429249545642222747429249408218081265CREATED  "
      ]
     },
     "execution_count": 18,
     "metadata": {},
     "output_type": "execute_result"
    }
   ],
   "source": [
    "single_pin_graph_edges[\"created\"].head()"
   ]
  },
  {
   "cell_type": "code",
   "execution_count": 19,
   "metadata": {},
   "outputs": [
    {
     "data": {
      "text/html": [
       "<div>\n",
       "<style scoped>\n",
       "    .dataframe tbody tr th:only-of-type {\n",
       "        vertical-align: middle;\n",
       "    }\n",
       "\n",
       "    .dataframe tbody tr th {\n",
       "        vertical-align: top;\n",
       "    }\n",
       "\n",
       "    .dataframe thead th {\n",
       "        text-align: right;\n",
       "    }\n",
       "</style>\n",
       "<table border=\"1\" class=\"dataframe\">\n",
       "  <thead>\n",
       "    <tr style=\"text-align: right;\">\n",
       "      <th></th>\n",
       "      <th>Source</th>\n",
       "      <th>Target</th>\n",
       "      <th>Label</th>\n",
       "      <th>label_attribute</th>\n",
       "      <th>_id</th>\n",
       "    </tr>\n",
       "  </thead>\n",
       "  <tbody>\n",
       "    <tr>\n",
       "      <th>0</th>\n",
       "      <td>429249408218081265</td>\n",
       "      <td>429249476923082892</td>\n",
       "      <td>ON</td>\n",
       "      <td>ON</td>\n",
       "      <td>429249408218081265429249476923082892ON</td>\n",
       "    </tr>\n",
       "  </tbody>\n",
       "</table>\n",
       "</div>"
      ],
      "text/plain": [
       "               Source              Target Label label_attribute  \\\n",
       "0  429249408218081265  429249476923082892    ON              ON   \n",
       "\n",
       "                                      _id  \n",
       "0  429249408218081265429249476923082892ON  "
      ]
     },
     "execution_count": 19,
     "metadata": {},
     "output_type": "execute_result"
    }
   ],
   "source": [
    "single_pin_graph_edges[\"on\"].head()"
   ]
  },
  {
   "cell_type": "code",
   "execution_count": 20,
   "metadata": {},
   "outputs": [
    {
     "data": {
      "text/html": [
       "<div>\n",
       "<style scoped>\n",
       "    .dataframe tbody tr th:only-of-type {\n",
       "        vertical-align: middle;\n",
       "    }\n",
       "\n",
       "    .dataframe tbody tr th {\n",
       "        vertical-align: top;\n",
       "    }\n",
       "\n",
       "    .dataframe thead th {\n",
       "        text-align: right;\n",
       "    }\n",
       "</style>\n",
       "<table border=\"1\" class=\"dataframe\">\n",
       "  <thead>\n",
       "    <tr style=\"text-align: right;\">\n",
       "      <th></th>\n",
       "      <th>Source</th>\n",
       "      <th>Target</th>\n",
       "      <th>Label</th>\n",
       "      <th>label_attribute</th>\n",
       "      <th>_id</th>\n",
       "    </tr>\n",
       "  </thead>\n",
       "  <tbody>\n",
       "    <tr>\n",
       "      <th>0</th>\n",
       "      <td>429249476923082892</td>\n",
       "      <td>429249408218081265</td>\n",
       "      <td>HAS</td>\n",
       "      <td>HAS</td>\n",
       "      <td>429249476923082892429249408218081265HAS</td>\n",
       "    </tr>\n",
       "  </tbody>\n",
       "</table>\n",
       "</div>"
      ],
      "text/plain": [
       "               Source              Target Label label_attribute  \\\n",
       "0  429249476923082892  429249408218081265   HAS             HAS   \n",
       "\n",
       "                                       _id  \n",
       "0  429249476923082892429249408218081265HAS  "
      ]
     },
     "execution_count": 20,
     "metadata": {},
     "output_type": "execute_result"
    }
   ],
   "source": [
    "single_pin_graph_edges[\"has\"].head()"
   ]
  },
  {
   "cell_type": "markdown",
   "metadata": {},
   "source": [
    "# Search a user by username\n",
    "### def fetch_pinterest_user_by_username(graph, username)\n",
    "\n",
    "Types of node returned:\n",
    "\n",
    "- user - the user returned by searching for username\n",
    "\n",
    "No edge returned"
   ]
  },
  {
   "cell_type": "code",
   "execution_count": 21,
   "metadata": {},
   "outputs": [],
   "source": [
    "# You can use username to search for a single user\n",
    "username = \"nichola_wilkin\"\n",
    "single_user_graph = pinterest.fetch_pinterest_user_by_username(graphipy.create_graph(), username)"
   ]
  },
  {
   "cell_type": "markdown",
   "metadata": {},
   "source": [
    "# Get my user node\n",
    "### def fetch_pinterest_my_usernode(graph)\n",
    "\n",
    "Types of node returned:\n",
    "\n",
    "- user - my own user node\n",
    "\n",
    "No edge returned"
   ]
  },
  {
   "cell_type": "code",
   "execution_count": 22,
   "metadata": {},
   "outputs": [],
   "source": [
    "# You can get your own user node and retrieve user information\n",
    "my_usernode_graph = pinterest.fetch_pinterest_my_usernode(graphipy.create_graph())"
   ]
  },
  {
   "cell_type": "markdown",
   "metadata": {},
   "source": [
    "# Get my boards\n",
    "### def fetch_pinterest_my_boards(graph)\n",
    "\n",
    "Types of node returned:\n",
    "\n",
    "- board - boards created by myself\n",
    "- user - my own user node\n",
    "\n",
    "Types of edge returned:\n",
    "\n",
    "- CREATED_BY\n",
    "- CREATE"
   ]
  },
  {
   "cell_type": "code",
   "execution_count": 23,
   "metadata": {},
   "outputs": [],
   "source": [
    "# You can get boards created by yourself and retrieve board information\n",
    "my_boards_graph = pinterest.fetch_pinterest_my_boards(graphipy.create_graph())"
   ]
  },
  {
   "cell_type": "markdown",
   "metadata": {},
   "source": [
    "# Get my pins\n",
    "### def fetch_pinterest_my_pins(graph)\n",
    "\n",
    "Types of node returned:\n",
    "\n",
    "- pin - pins created by myself\n",
    "- user - my own user node\n",
    "\n",
    "Types of edge returned:\n",
    "\n",
    "- CREATED_BY\n",
    "- CREATE"
   ]
  },
  {
   "cell_type": "code",
   "execution_count": 24,
   "metadata": {},
   "outputs": [],
   "source": [
    "# You can get pins created by yourself and retrieve pin information\n",
    "my_pins_graph = pinterest.fetch_pinterest_my_pins(graphipy.create_graph())"
   ]
  },
  {
   "cell_type": "markdown",
   "metadata": {},
   "source": [
    "# Get my followers\n",
    "### def fetch_pinterest_my_followers(graph)\n",
    "\n",
    "Types of node returned:\n",
    "\n",
    "- user \n",
    "    - users I'm followed by\n",
    "    - my own user node\n",
    "\n",
    "Types of edge returned:\n",
    "\n",
    "- FOLLOWED_BY\n",
    "- FOLLOW"
   ]
  },
  {
   "cell_type": "code",
   "execution_count": 25,
   "metadata": {},
   "outputs": [],
   "source": [
    "# You can get your followers and retrieve followers' information\n",
    "my_followers_graph = pinterest.fetch_pinterest_my_followers(graphipy.create_graph())"
   ]
  },
  {
   "cell_type": "markdown",
   "metadata": {},
   "source": [
    "# Get my following users\n",
    "### def fetch_pinterest_my_following_users(graph)\n",
    "\n",
    "Types of node returned:\n",
    "\n",
    "- user \n",
    "    - users I'm following\n",
    "    - my own user node\n",
    "\n",
    "Types of edge returned:\n",
    "\n",
    "- FOLLOW\n",
    "- FOLLOWED_BY"
   ]
  },
  {
   "cell_type": "code",
   "execution_count": 26,
   "metadata": {},
   "outputs": [],
   "source": [
    "# You can get your following users and retrieve your following users' information\n",
    "my_following_users_graph = pinterest.fetch_pinterest_my_following_users(graphipy.create_graph())"
   ]
  },
  {
   "cell_type": "markdown",
   "metadata": {},
   "source": [
    "# Get my following boards\n",
    "### def fetch_pinterest_my_following_boards(graph)\n",
    "\n",
    "Types of node returned:\n",
    "\n",
    "- board - boards I'm following\n",
    "- user - my own user node\n",
    "\n",
    "Types of edge returned:\n",
    "\n",
    "- FOLLOWED_BY\n",
    "- FOLLOW"
   ]
  },
  {
   "cell_type": "code",
   "execution_count": 27,
   "metadata": {},
   "outputs": [],
   "source": [
    "# You can get your following boards and retrieve your following boards' information\n",
    "my_following_boards_graph = pinterest.fetch_pinterest_my_following_boards(graphipy.create_graph())"
   ]
  },
  {
   "cell_type": "markdown",
   "metadata": {},
   "source": [
    "# Export Graph as CSV files\n",
    "#### For more information, see DataExportDemo.ipynb"
   ]
  },
  {
   "cell_type": "code",
   "execution_count": 28,
   "metadata": {},
   "outputs": [],
   "source": [
    "# You can call export_all_csv() on the graph desired\n",
    "# then graph can be showed via gephi, cytoscape, etc. takes CSV files\n",
    "csv_name = \"single_board_searched_by_url\"\n",
    "export_path_all = single_board_graph.export_all_csv(csv_name)\n",
    "\n",
    "# You cam also specify we want to export by calling export_CSV()\n",
    "csv_name = \"single_board_searched_by_url_specific\"\n",
    "nodes = {\"board\"}\n",
    "edges = {\"created by\", \"create\"}\n",
    "export_path_specific = single_board_graph.export_csv(csv_name, nodes, edges)"
   ]
  },
  {
   "cell_type": "markdown",
   "metadata": {},
   "source": [
    "# Visualization with NetworkX\n",
    "#### For more information, see DataExportDemo.ipynb"
   ]
  },
  {
   "cell_type": "code",
   "execution_count": 29,
   "metadata": {},
   "outputs": [],
   "source": [
    "from matplotlib import colors as mcolors\n",
    "import matplotlib.pyplot as plt"
   ]
  },
  {
   "cell_type": "code",
   "execution_count": 30,
   "metadata": {},
   "outputs": [],
   "source": [
    "# Create the networkx exporter object\n",
    "exporter = graphipy.get_nx_exporter()\n",
    "nx_graph = exporter.create_from_pd(single_board_graph)"
   ]
  },
  {
   "cell_type": "code",
   "execution_count": 31,
   "metadata": {},
   "outputs": [
    {
     "data": {
      "image/png": "[encoded data removed]",
      "text/plain": [
       "<Figure size 432x288 with 1 Axes>"
      ]
     },
     "metadata": {
      "needs_background": "light"
     },
     "output_type": "display_data"
    }
   ],
   "source": [
    "# Draw the graph using graphipy\n",
    "color_set = set(mcolors.CSS4_COLORS)\n",
    "options = {\n",
    "    \"node_label\": \"Label\",\n",
    "    \"colorful_edges\": True,\n",
    "    \"color_set\": color_set\n",
    "}\n",
    "legend = exporter.draw_random(nx_graph, options=options, legend=plt)"
   ]
  }
 ],
 "metadata": {
  "kernelspec": {
   "display_name": "Python 3",
   "language": "python",
   "name": "python3"
  },
  "language_info": {
   "codemirror_mode": {
    "name": "ipython",
    "version": 3
   },
   "file_extension": ".py",
   "mimetype": "text/x-python",
   "name": "python",
   "nbconvert_exporter": "python",
   "pygments_lexer": "ipython3",
   "version": "3.7.0"
  }
 },
 "nbformat": 4,
 "nbformat_minor": 2
}
